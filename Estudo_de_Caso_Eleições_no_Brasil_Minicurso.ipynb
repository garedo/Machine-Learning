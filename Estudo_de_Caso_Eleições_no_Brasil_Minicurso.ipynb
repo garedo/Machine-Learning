{
  "nbformat": 4,
  "nbformat_minor": 0,
  "metadata": {
    "name": "Estudo de Caso: Eleições no Brasil - Minha Versão",
    "notebookId": 685724612181287,
    "colab": {
      "provenance": [],
      "include_colab_link": true
    },
    "kernelspec": {
      "name": "python3",
      "display_name": "Python 3"
    }
  },
  "cells": [
    {
      "cell_type": "markdown",
      "metadata": {
        "id": "view-in-github",
        "colab_type": "text"
      },
      "source": [
        "<a href=\"https://colab.research.google.com/github/garedo/Machine-Learning/blob/main/Estudo_de_Caso_Elei%C3%A7%C3%B5es_no_Brasil_Minicurso.ipynb\" target=\"_parent\"><img src=\"https://colab.research.google.com/assets/colab-badge.svg\" alt=\"Open In Colab\"/></a>"
      ]
    },
    {
      "cell_type": "markdown",
      "metadata": {
        "id": "LWz_NGFsP5XC"
      },
      "source": [
        "# Estudo de Caso: Eleições no Brasil\n",
        "\n",
        "O Repositório de dados eleitorais é uma compilação de informações reais das eleições de 2014 e 2018, voltada para pesquisadores, imprensa e pessoas interessadas em analisar os dados de eleitorado, candidaturas, resultados e prestação de contas.\n",
        "\n",
        "Neste Estudo de Caso, iremos analisar as informações acerca do perfil dos candidatos nas eleições de 2014 e 2018 no âmbito estadual e federal, declarações de bens e dados sobre os partidos, as coligações e as vagas por cargo e por unidade eleitoral.\n",
        "\n",
        "Os dados foram retirados do [Repositório de Dados Eleitorais do TSE](http://www.tse.jus.br/eleicoes/estatisticas/repositorio-de-dados-eleitorais-1)."
      ]
    },
    {
      "cell_type": "markdown",
      "metadata": {
        "id": "0SlWkZTtP5XF"
      },
      "source": [
        "Abaixo as bases de dados das eleições de 2014 e 2018 são baixadas do repositório de dados do TSE:"
      ]
    },
    {
      "cell_type": "code",
      "source": [
        "sh = \"\"\"\n",
        "if [ ! -d eleicoes ]; then\n",
        "  mkdir eleicoes\n",
        "fi\n",
        "\n",
        "# Baixa o arquivo que contém as informações dos candidatos de 2014\n",
        "if [ ! -f eleicoes/consulta_candidato_2014_BRASIL.csv ]; then \n",
        "  wget https://github.com/savioteles/big_data/raw/master/etl/datasets/consulta_cand_2014_BRASIL.csv\n",
        "  mv consulta_cand_2014_BRASIL.csv eleicoes\n",
        "fi\n",
        "\n",
        "# Baixa o arquivo que contém as informações dos bens dos candidatos de 2014\n",
        "if [ ! -f eleicoes/bem_candidato_2014_BRASIL.csv ]; then \n",
        "  wget https://github.com/savioteles/big_data/raw/master/etl/datasets/bem_candidato_2014_BRASIL.csv\n",
        "  mv bem_candidato_2014_BRASIL.csv eleicoes\n",
        "fi\n",
        "\n",
        "# Baixa o arquivo que contém as informações dos candidatos de 2018\n",
        "if [ ! -f eleicoes/consulta_cand_2018_BRASIL.csv ]; then \n",
        "  wget https://github.com/savioteles/big_data/raw/master/etl/datasets/consulta_cand_2018_BRASIL.csv\n",
        "  mv consulta_cand_2018_BRASIL.csv eleicoes\n",
        "fi\n",
        "\n",
        "# Baixa o arquivo que contém as informações dos bens dos candidatos de 2018\n",
        "if [ ! -f eleicoes/bem_candidato_2018_BRASIL.csv ]; then \n",
        "  wget https://github.com/savioteles/big_data/raw/master/etl/datasets/bem_candidato_2018_BRASIL.csv\n",
        "  mv bem_candidato_2018_BRASIL.csv eleicoes\n",
        "fi\n",
        "\"\"\"\n",
        "with open('script.sh', 'w') as file:\n",
        "  file.write(sh)\n",
        "\n",
        "!bash script.sh"
      ],
      "metadata": {
        "id": "fGQSP5j1kocn",
        "colab": {
          "base_uri": "https://localhost:8080/"
        },
        "outputId": "0ce0c15f-9fe9-4a21-f3d5-8cdf6d37432e"
      },
      "execution_count": null,
      "outputs": [
        {
          "output_type": "stream",
          "name": "stdout",
          "text": [
            "--2022-10-25 22:57:14--  https://github.com/savioteles/big_data/raw/master/etl/datasets/consulta_cand_2014_BRASIL.csv\n",
            "Resolving github.com (github.com)... 140.82.114.3\n",
            "Connecting to github.com (github.com)|140.82.114.3|:443... connected.\n",
            "HTTP request sent, awaiting response... 302 Found\n",
            "Location: https://raw.githubusercontent.com/savioteles/big_data/master/etl/datasets/consulta_cand_2014_BRASIL.csv [following]\n",
            "--2022-10-25 22:57:15--  https://raw.githubusercontent.com/savioteles/big_data/master/etl/datasets/consulta_cand_2014_BRASIL.csv\n",
            "Resolving raw.githubusercontent.com (raw.githubusercontent.com)... 185.199.111.133, 185.199.108.133, 185.199.109.133, ...\n",
            "Connecting to raw.githubusercontent.com (raw.githubusercontent.com)|185.199.111.133|:443... connected.\n",
            "HTTP request sent, awaiting response... 200 OK\n",
            "Length: 17108987 (16M) [text/plain]\n",
            "Saving to: ‘consulta_cand_2014_BRASIL.csv’\n",
            "\n",
            "consulta_cand_2014_ 100%[===================>]  16.32M  --.-KB/s    in 0.07s   \n",
            "\n",
            "2022-10-25 22:57:15 (221 MB/s) - ‘consulta_cand_2014_BRASIL.csv’ saved [17108987/17108987]\n",
            "\n",
            "--2022-10-25 22:57:15--  https://github.com/savioteles/big_data/raw/master/etl/datasets/bem_candidato_2014_BRASIL.csv\n",
            "Resolving github.com (github.com)... 140.82.113.3\n",
            "Connecting to github.com (github.com)|140.82.113.3|:443... connected.\n",
            "HTTP request sent, awaiting response... 302 Found\n",
            "Location: https://raw.githubusercontent.com/savioteles/big_data/master/etl/datasets/bem_candidato_2014_BRASIL.csv [following]\n",
            "--2022-10-25 22:57:15--  https://raw.githubusercontent.com/savioteles/big_data/master/etl/datasets/bem_candidato_2014_BRASIL.csv\n",
            "Resolving raw.githubusercontent.com (raw.githubusercontent.com)... 185.199.108.133, 185.199.109.133, 185.199.110.133, ...\n",
            "Connecting to raw.githubusercontent.com (raw.githubusercontent.com)|185.199.108.133|:443... connected.\n",
            "HTTP request sent, awaiting response... 200 OK\n",
            "Length: 21764302 (21M) [text/plain]\n",
            "Saving to: ‘bem_candidato_2014_BRASIL.csv’\n",
            "\n",
            "bem_candidato_2014_ 100%[===================>]  20.76M  --.-KB/s    in 0.07s   \n",
            "\n",
            "2022-10-25 22:57:15 (310 MB/s) - ‘bem_candidato_2014_BRASIL.csv’ saved [21764302/21764302]\n",
            "\n",
            "--2022-10-25 22:57:15--  https://github.com/savioteles/big_data/raw/master/etl/datasets/consulta_cand_2018_BRASIL.csv\n",
            "Resolving github.com (github.com)... 140.82.112.3\n",
            "Connecting to github.com (github.com)|140.82.112.3|:443... connected.\n",
            "HTTP request sent, awaiting response... 302 Found\n",
            "Location: https://raw.githubusercontent.com/savioteles/big_data/master/etl/datasets/consulta_cand_2018_BRASIL.csv [following]\n",
            "--2022-10-25 22:57:15--  https://raw.githubusercontent.com/savioteles/big_data/master/etl/datasets/consulta_cand_2018_BRASIL.csv\n",
            "Resolving raw.githubusercontent.com (raw.githubusercontent.com)... 185.199.109.133, 185.199.108.133, 185.199.111.133, ...\n",
            "Connecting to raw.githubusercontent.com (raw.githubusercontent.com)|185.199.109.133|:443... connected.\n",
            "HTTP request sent, awaiting response... 200 OK\n",
            "Length: 19053269 (18M) [text/plain]\n",
            "Saving to: ‘consulta_cand_2018_BRASIL.csv’\n",
            "\n",
            "consulta_cand_2018_ 100%[===================>]  18.17M  --.-KB/s    in 0.06s   \n",
            "\n",
            "2022-10-25 22:57:15 (300 MB/s) - ‘consulta_cand_2018_BRASIL.csv’ saved [19053269/19053269]\n",
            "\n",
            "--2022-10-25 22:57:15--  https://github.com/savioteles/big_data/raw/master/etl/datasets/bem_candidato_2018_BRASIL.csv\n",
            "Resolving github.com (github.com)... 140.82.112.3\n",
            "Connecting to github.com (github.com)|140.82.112.3|:443... connected.\n",
            "HTTP request sent, awaiting response... 302 Found\n",
            "Location: https://raw.githubusercontent.com/savioteles/big_data/master/etl/datasets/bem_candidato_2018_BRASIL.csv [following]\n",
            "--2022-10-25 22:57:16--  https://raw.githubusercontent.com/savioteles/big_data/master/etl/datasets/bem_candidato_2018_BRASIL.csv\n",
            "Resolving raw.githubusercontent.com (raw.githubusercontent.com)... 185.199.108.133, 185.199.111.133, 185.199.110.133, ...\n",
            "Connecting to raw.githubusercontent.com (raw.githubusercontent.com)|185.199.108.133|:443... connected.\n",
            "HTTP request sent, awaiting response... 200 OK\n",
            "Length: 24206235 (23M) [text/plain]\n",
            "Saving to: ‘bem_candidato_2018_BRASIL.csv’\n",
            "\n",
            "bem_candidato_2018_ 100%[===================>]  23.08M  --.-KB/s    in 0.05s   \n",
            "\n",
            "2022-10-25 22:57:16 (434 MB/s) - ‘bem_candidato_2018_BRASIL.csv’ saved [24206235/24206235]\n",
            "\n"
          ]
        }
      ]
    },
    {
      "cell_type": "markdown",
      "source": [
        "## Iniciando o PySpark\n"
      ],
      "metadata": {
        "id": "GoO7OEDIrXkX"
      }
    },
    {
      "cell_type": "code",
      "source": [
        "!apt-get install openjdk-11-jdk-headless -qq > /dev/null\n",
        "!wget -q https://dlcdn.apache.org/spark/spark-3.3.0/spark-3.3.0-bin-hadoop3.tgz\n",
        "!tar xf spark-3.3.0-bin-hadoop3.tgz\n",
        "!pip -q install findspark"
      ],
      "metadata": {
        "id": "cRvE2ZYOqpqy"
      },
      "execution_count": null,
      "outputs": []
    },
    {
      "cell_type": "code",
      "source": [
        "import os\n",
        "os.environ[\"JAVA_HOME\"] = \"/usr/lib/jvm/java-11-openjdk-amd64\"\n",
        "os.environ[\"SPARK_HOME\"] = \"/content/spark-3.3.0-bin-hadoop3\""
      ],
      "metadata": {
        "id": "Q1-6FB1lru2V"
      },
      "execution_count": null,
      "outputs": []
    },
    {
      "cell_type": "code",
      "source": [
        "import findspark\n",
        "findspark.init()"
      ],
      "metadata": {
        "id": "HTdfnWeNr1vq"
      },
      "execution_count": null,
      "outputs": []
    },
    {
      "cell_type": "code",
      "source": [
        "from pyspark.sql import SparkSession\n",
        "from pyspark.sql.functions import *\n",
        "spark = SparkSession.builder.appName('Eleicoes').master(\"local[*]\").getOrCreate()"
      ],
      "metadata": {
        "id": "hkmg5hYvr3qc"
      },
      "execution_count": null,
      "outputs": []
    },
    {
      "cell_type": "markdown",
      "metadata": {
        "id": "JJcNI-3aP5XS"
      },
      "source": [
        "## Primeira etapa: carregar os arquivos\n",
        "\n",
        "Nessa segunda etapa você deve carregar os quatro arquivos abaixos, utilizando o **Spark**:\n",
        "\n",
        "- file:///content/eleicoes/bem_candidato_2014_BRASIL.csv: você deve montar o esquema na leitura do arquivo\n",
        "- file:///content/eleicoes/bem_candidato_2018_BRASIL.csv: você deve montar o esquema na leitura do arquivo\n",
        "- file:///content/eleicoes/consulta_cand_2014_BRASIL.csv: o esquema de dados deve ser inferido automaticamente (inferSchema=True)\n",
        "- file:///content/eleicoes/consulta_cand_2018_BRASIL.csv: o esquema de dados deve ser inferido automaticamente (inferSchema=True)\n",
        "\n",
        "**Dicas:**\n",
        "\n",
        "- Arquivos estão com codificação Latin1 (encoding='Latin1')\n",
        "- Separador dos arquivos é ; (ponto e vírgula)\n",
        "- Os arquivos possuem cabeçalho\n",
        "- Os esquemas de dados dos arquivos bem_candidato_2014_BRASIL.csv e bem_candidato_2018_BRASIL.csv são iguais, ou seja, é preciso montar apenas um esquema com ScructType e aproveitar na leitura dos dois arquivo."
      ]
    },
    {
      "cell_type": "code",
      "metadata": {
        "id": "PVKXYEayP5XT"
      },
      "source": [
        "from pyspark.sql.functions import *\n",
        "from pyspark.sql.types import *\n",
        "bem_candidato_schema = StructType([StructField(\"DT_GERACAO\", DateType(), True),\n",
        "                    StructField(\"HH_GERACAO\", StringType(), True),\n",
        "                    StructField(\"ANO_ELEICAO\", IntegerType(), True),\n",
        "                    StructField(\"CD_TIPO_ELEICAO\", IntegerType(), True),\n",
        "                    StructField(\"NM_TIPO_ELEICAO\", StringType(), True),\n",
        "                    StructField(\"CD_ELEICAO\", IntegerType(), True),\n",
        "                    StructField(\"DS_ELEICAO\", StringType(), True),\n",
        "                    StructField(\"DT_ELEICAO\", DateType(), True),\n",
        "                    StructField(\"SG_UF\", StringType(), True),\n",
        "                    StructField(\"SG_UE\", StringType(), True),\n",
        "                    StructField(\"NM_UE\", StringType(), True),\n",
        "                    StructField(\"SQ_CANDIDATO\", LongType(), True),\n",
        "                    StructField(\"NR_ORDEM_CANDIDATO\", IntegerType(), True),\n",
        "                    StructField(\"CD_TIPO_BEM_CANDIDATO\", IntegerType(), True),\n",
        "                    StructField(\"DS_TIPO_BEM_CANDIDATO\", StringType(), True),\n",
        "                    StructField(\"DS_BEM_CANDIDATO\", StringType(), True),\n",
        "                    StructField(\"VR_BEM_CANDIDATO\", StringType(), True),\n",
        "                    StructField(\"DT_ULTIMA_ATUALIZACAO\", DateType(), True),\n",
        "                    StructField(\"HH_ULTIMA_ATUALIZACAO\", StringType(), True)])"
      ],
      "execution_count": null,
      "outputs": []
    },
    {
      "cell_type": "markdown",
      "metadata": {
        "id": "D2MoMqpvP5XX"
      },
      "source": [
        "Abaixo faça a leitura dos arquivos com informações dos bens dos candidatos em 2014 e 2018"
      ]
    },
    {
      "cell_type": "code",
      "metadata": {
        "id": "DNCaZtAbP5XY"
      },
      "source": [
        "# Leitura dos arquivos com informações dos bens dos candidatos em 2014 e 2018\n",
        "bem_candidato_2014_df = spark.read.csv('file:///content/eleicoes/bem_candidato_2014_BRASIL.csv', \\\n",
        "                                       header=True, encoding='Latin1', \\\n",
        "                                       sep=';', schema=bem_candidato_schema, \\\n",
        "                                       dateFormat='dd/MM/yyyy')\n",
        "bem_candidato_2018_df = spark.read.csv('file:///content/eleicoes/bem_candidato_2018_BRASIL.csv', header=True, encoding='Latin1', sep=';', schema=bem_candidato_schema, dateFormat='dd/MM/yyyy')"
      ],
      "execution_count": null,
      "outputs": []
    },
    {
      "cell_type": "markdown",
      "metadata": {
        "id": "osbP6vIXP5Xb"
      },
      "source": [
        "Faça a leitura dos arquivos da candidatura dos anos de 2014 e 2018 com inferSchema do Spark"
      ]
    },
    {
      "cell_type": "code",
      "metadata": {
        "id": "B2KuJHHjP5Xc"
      },
      "source": [
        "# Leitura dos arquivos da candidatura dos anos de 2014 e 2018\n",
        "consulta_cand_2014_df = spark.read.csv('file:///content/eleicoes/consulta_cand_2014_BRASIL.csv', \\\n",
        "                                       header=True, encoding='Latin1', \\\n",
        "                                       sep=';', inferSchema=True, \\\n",
        "                                       timestampFormat='dd/MM/yyyy')\n",
        "consulta_cand_2018_df = spark.read.csv('file:///content/eleicoes/consulta_cand_2018_BRASIL.csv', header=True, encoding='Latin1', sep=';', inferSchema=True, timestampFormat='dd/MM/yyyy')"
      ],
      "execution_count": null,
      "outputs": []
    },
    {
      "cell_type": "markdown",
      "metadata": {
        "id": "wSMegc8KP5Xg"
      },
      "source": [
        "## Segunda etapa: fazer o tratamento nos dados\n",
        "\n",
        "Nesta etapa devemos substituir os valores igual a #NULO# por ''(vazio) nas colunas 'NM_SOCIAL_CANDIDATO' e 'DS_SIT_TOT_TURNO' dos DataFrames consulta_cand_2014_df e consulta_cand_2018_df."
      ]
    },
    {
      "cell_type": "code",
      "metadata": {
        "id": "3d9rhBTIP5Xh"
      },
      "source": [
        "# candidatos 2014\n",
        "consulta_cand_2014_df = consulta_cand_2014_df.\\\n",
        "withColumn('DS_SIT_TOT_TURNO', regexp_replace('DS_SIT_TOT_TURNO', '#NULO#', ''))\n",
        "\n",
        "consulta_cand_2014_df = consulta_cand_2014_df.\\\n",
        "withColumn('NM_SOCIAL_CANDIDATO', regexp_replace('NM_SOCIAL_CANDIDATO', '#NULO#', ''))\n",
        "\n",
        "# candidatos 2018\n",
        "consulta_cand_2018_df = consulta_cand_2018_df.withColumn('DS_SIT_TOT_TURNO', regexp_replace('DS_SIT_TOT_TURNO', '#NULO#', ''))\n",
        "consulta_cand_2018_df = consulta_cand_2018_df.withColumn('NM_SOCIAL_CANDIDATO', regexp_replace('NM_SOCIAL_CANDIDATO', '#NULO#', ''))"
      ],
      "execution_count": null,
      "outputs": []
    },
    {
      "cell_type": "markdown",
      "metadata": {
        "id": "rvuSBDMFP5Xm"
      },
      "source": [
        "Além disso, temos que substituir os valores igual a #NULO# por ''(vazio) na coluna 'DS_BEM_CANDIDATO' dos DataFrames bem_candidato_2014_df e bem_candidato_2018_df."
      ]
    },
    {
      "cell_type": "code",
      "metadata": {
        "id": "dlQk6RfUP5Xn"
      },
      "source": [
        "# bens dos candidatos de 2014\n",
        "bem_candidato_2014_df = bem_candidato_2014_df.withColumn('DS_BEM_CANDIDATO', regexp_replace('DS_BEM_CANDIDATO', '#NULO#', ''))\n",
        "# bens dos candidatos de 2018\n",
        "bem_candidato_2018_df = bem_candidato_2018_df.withColumn('DS_BEM_CANDIDATO', regexp_replace('DS_BEM_CANDIDATO', '#NULO#', ''))"
      ],
      "execution_count": null,
      "outputs": []
    },
    {
      "cell_type": "markdown",
      "metadata": {
        "id": "oZdaXgalP5Xu"
      },
      "source": [
        "## Terceira Etapa: realizar consultas nos dados\n",
        "\n",
        "Nesta etapa iremos fazer diversas consultas nos dados do TSE utilizando a API do Spark e SparkSQL."
      ]
    },
    {
      "cell_type": "markdown",
      "metadata": {
        "id": "0xzzBeKGP5Xv"
      },
      "source": [
        "### **Quais candidatos foram eleitos em 2014?**\n",
        "\n",
        "Apresente na tela os campos 'NM_CANDIDATO', 'NR_CPF_CANDIDATO', 'SQ_CANDIDATO', 'DS_CARGO' dos candidatos eleitos. Candidatos eleitos são aqueles com CD_SIT_TOT_TURNO igual a 1, 2 ou 3."
      ]
    },
    {
      "cell_type": "code",
      "metadata": {
        "id": "8jYBOdh7P5Xv",
        "colab": {
          "base_uri": "https://localhost:8080/"
        },
        "outputId": "c84b7764-aaa8-40c7-9f36-83a34781318e"
      },
      "source": [
        "# Quais candidatos foram eleitos em 2014?\n",
        "eleitos_2014 = consulta_cand_2014_df\\\n",
        ".filter(col('CD_SIT_TOT_TURNO').isin('1','2','3'))\\\n",
        ".select('NM_CANDIDATO', 'NR_CPF_CANDIDATO', 'SQ_CANDIDATO', 'DS_CARGO')\n",
        "\n",
        "eleitos_2014.show(5, truncate=False)"
      ],
      "execution_count": null,
      "outputs": [
        {
          "output_type": "stream",
          "name": "stdout",
          "text": [
            "+----------------------------+----------------+------------+-----------------+\n",
            "|NM_CANDIDATO                |NR_CPF_CANDIDATO|SQ_CANDIDATO|DS_CARGO         |\n",
            "+----------------------------+----------------+------------+-----------------+\n",
            "|ANTÔNIO WALDEZ GÓES DA SILVA|12617555291     |30000000088 |GOVERNADOR       |\n",
            "|LUCÍLVIO GIRÃO SALES        |10493441387     |60000000689 |DEPUTADO ESTADUAL|\n",
            "|SILAS CAMARA                |13512951287     |40000000360 |DEPUTADO FEDERAL |\n",
            "|CARLOS MATOS LIMA           |23265388387     |60000000554 |DEPUTADO ESTADUAL|\n",
            "|GUSTAVO REIS FERREIRA       |07615622735     |190000001611|DEPUTADO ESTADUAL|\n",
            "+----------------------------+----------------+------------+-----------------+\n",
            "only showing top 5 rows\n",
            "\n"
          ]
        }
      ]
    },
    {
      "cell_type": "code",
      "metadata": {
        "id": "2MzGba6-GCY5"
      },
      "source": [
        "consulta_cand_2014_df.createOrReplaceTempView(\"consulta_cand_2014\")\n",
        "consulta_cand_2018_df.createOrReplaceTempView(\"consulta_cand_2018\")\n",
        "bem_candidato_2014_df.createOrReplaceTempView(\"bem_candidato_2014\")\n",
        "bem_candidato_2018_df.createOrReplaceTempView(\"bem_candidato_2018\")"
      ],
      "execution_count": null,
      "outputs": []
    },
    {
      "cell_type": "code",
      "metadata": {
        "id": "jDMeNwPmP5Xz",
        "colab": {
          "base_uri": "https://localhost:8080/"
        },
        "outputId": "3adc186a-8036-4454-ab02-12e456160be3"
      },
      "source": [
        "spark.sql(\"select NM_CANDIDATO, NR_CPF_CANDIDATO, SQ_CANDIDATO, DS_CARGO \\\n",
        "from consulta_cand_2014 where CD_SIT_TOT_TURNO in ('1','2','3')\").show(5)"
      ],
      "execution_count": null,
      "outputs": [
        {
          "output_type": "stream",
          "name": "stdout",
          "text": [
            "+--------------------+----------------+------------+-----------------+\n",
            "|        NM_CANDIDATO|NR_CPF_CANDIDATO|SQ_CANDIDATO|         DS_CARGO|\n",
            "+--------------------+----------------+------------+-----------------+\n",
            "|ANTÔNIO WALDEZ GÓ...|     12617555291| 30000000088|       GOVERNADOR|\n",
            "|LUCÍLVIO GIRÃO SALES|     10493441387| 60000000689|DEPUTADO ESTADUAL|\n",
            "|        SILAS CAMARA|     13512951287| 40000000360| DEPUTADO FEDERAL|\n",
            "|   CARLOS MATOS LIMA|     23265388387| 60000000554|DEPUTADO ESTADUAL|\n",
            "|GUSTAVO REIS FERR...|     07615622735|190000001611|DEPUTADO ESTADUAL|\n",
            "+--------------------+----------------+------------+-----------------+\n",
            "only showing top 5 rows\n",
            "\n"
          ]
        }
      ]
    },
    {
      "cell_type": "markdown",
      "metadata": {
        "id": "RzYSF0bvP5X3"
      },
      "source": [
        "### **Quais candidatos foram eleitos em 2018?**\n",
        "\n",
        "Apresente na tela os campos 'NM_CANDIDATO', 'NR_CPF_CANDIDATO', 'SQ_CANDIDATO', 'DS_CARGO' dos candidatos eleitos. Candidatos eleitos são aqueles com CD_SIT_TOT_TURNO igual a 1, 2 ou 3."
      ]
    },
    {
      "cell_type": "code",
      "metadata": {
        "id": "se7pmfozP5X3",
        "colab": {
          "base_uri": "https://localhost:8080/"
        },
        "outputId": "6293ec53-a23f-402e-831b-a9f894e645ae"
      },
      "source": [
        "# Quais candidatos foram eleitos em 2018?\n",
        "eleitos_2018 = consulta_cand_2018_df.filter(col('CD_SIT_TOT_TURNO').isin('1','2','3')).select('NM_CANDIDATO', 'NR_CPF_CANDIDATO', 'SQ_CANDIDATO', 'DS_CARGO', 'ST_REELEICAO')\n",
        "eleitos_2018.show(5, truncate=False)"
      ],
      "execution_count": null,
      "outputs": [
        {
          "output_type": "stream",
          "name": "stdout",
          "text": [
            "+-------------------------------+----------------+------------+-----------------+------------+\n",
            "|NM_CANDIDATO                   |NR_CPF_CANDIDATO|SQ_CANDIDATO|DS_CARGO         |ST_REELEICAO|\n",
            "+-------------------------------+----------------+------------+-----------------+------------+\n",
            "|GILSON MARQUES VIEIRA          |824207939       |240000600256|DEPUTADO FEDERAL |N           |\n",
            "|ANTONIO ARNALDO ALVES DE MELO  |5534640278      |100000609132|DEPUTADO ESTADUAL|N           |\n",
            "|DANIEL TRZECIAK DUARTE         |1297812077      |210000604795|DEPUTADO FEDERAL |N           |\n",
            "|CASSIO ANTÔNIO FERREIRA SOARES |4245226676      |130000613113|DEPUTADO ESTADUAL|S           |\n",
            "|MARIA MARGARIDA MARTINS SALOMÃO|13521039668     |130000626964|DEPUTADO FEDERAL |S           |\n",
            "+-------------------------------+----------------+------------+-----------------+------------+\n",
            "only showing top 5 rows\n",
            "\n"
          ]
        }
      ]
    },
    {
      "cell_type": "code",
      "metadata": {
        "id": "_MXbnBIbP5X6",
        "colab": {
          "base_uri": "https://localhost:8080/"
        },
        "outputId": "2cf7d09a-9ad4-4e95-be07-7370f224c155"
      },
      "source": [
        "spark.sql(\"select NM_CANDIDATO, NR_CPF_CANDIDATO, SQ_CANDIDATO, DS_CARGO, ST_REELEICAO \\\n",
        "from consulta_cand_2018 where CD_SIT_TOT_TURNO in ('1','2','3')\")\\\n",
        ".show(5, truncate=False)"
      ],
      "execution_count": null,
      "outputs": [
        {
          "output_type": "stream",
          "name": "stdout",
          "text": [
            "+-------------------------------+----------------+------------+-----------------+------------+\n",
            "|NM_CANDIDATO                   |NR_CPF_CANDIDATO|SQ_CANDIDATO|DS_CARGO         |ST_REELEICAO|\n",
            "+-------------------------------+----------------+------------+-----------------+------------+\n",
            "|GILSON MARQUES VIEIRA          |824207939       |240000600256|DEPUTADO FEDERAL |N           |\n",
            "|ANTONIO ARNALDO ALVES DE MELO  |5534640278      |100000609132|DEPUTADO ESTADUAL|N           |\n",
            "|DANIEL TRZECIAK DUARTE         |1297812077      |210000604795|DEPUTADO FEDERAL |N           |\n",
            "|CASSIO ANTÔNIO FERREIRA SOARES |4245226676      |130000613113|DEPUTADO ESTADUAL|S           |\n",
            "|MARIA MARGARIDA MARTINS SALOMÃO|13521039668     |130000626964|DEPUTADO FEDERAL |S           |\n",
            "+-------------------------------+----------------+------------+-----------------+------------+\n",
            "only showing top 5 rows\n",
            "\n"
          ]
        }
      ]
    },
    {
      "cell_type": "markdown",
      "metadata": {
        "id": "dJ572grlP5X9"
      },
      "source": [
        "### **Qual o número de eleitos por partido em 2014 ordenando a saída pelo número de eleitos?**\n",
        "\n",
        "Candidatos eleitos são aqueles com CD_SIT_TOT_TURNO igual a 1, 2 ou 3. O partido é definido pela coluna NM_PARTIDO."
      ]
    },
    {
      "cell_type": "code",
      "metadata": {
        "id": "Qk4lAiBUP5X-",
        "colab": {
          "base_uri": "https://localhost:8080/"
        },
        "outputId": "02b5388f-a60c-4bb1-dd86-090df548766f"
      },
      "source": [
        "# Qual o número de eleitos por partido em 2014 ordenando a saída pelo número de eleitos?\n",
        "consulta_cand_2014_df\\\n",
        ".filter(col('CD_SIT_TOT_TURNO').isin('1','2','3'))\\\n",
        ".groupBy(['NM_PARTIDO']).count()\\\n",
        ".sort(desc('count'))\\\n",
        ".show(5, truncate=False)"
      ],
      "execution_count": null,
      "outputs": [
        {
          "output_type": "stream",
          "name": "stdout",
          "text": [
            "+-------------------------------------------+-----+\n",
            "|NM_PARTIDO                                 |count|\n",
            "+-------------------------------------------+-----+\n",
            "|PARTIDO DO MOVIMENTO DEMOCRÁTICO BRASILEIRO|231  |\n",
            "|PARTIDO DOS TRABALHADORES                  |193  |\n",
            "|PARTIDO DA SOCIAL DEMOCRACIA BRASILEIRA    |170  |\n",
            "|PARTIDO SOCIAL DEMOCRÁTICO                 |120  |\n",
            "|PARTIDO SOCIALISTA BRASILEIRO              |110  |\n",
            "+-------------------------------------------+-----+\n",
            "only showing top 5 rows\n",
            "\n"
          ]
        }
      ]
    },
    {
      "cell_type": "code",
      "metadata": {
        "id": "wp8xM7B2P5YC",
        "colab": {
          "base_uri": "https://localhost:8080/"
        },
        "outputId": "38f6d50e-6bf9-4d13-9cfc-5e6e4660d32f"
      },
      "source": [
        "spark.sql(\"select NM_PARTIDO, count(*) as count \\\n",
        "from consulta_cand_2014 where CD_SIT_TOT_TURNO in ('1','2','3') \\\n",
        "group by 1 order by 2 desc\")\\\n",
        ".show(5, truncate=False)"
      ],
      "execution_count": null,
      "outputs": [
        {
          "output_type": "stream",
          "name": "stdout",
          "text": [
            "+-------------------------------------------+-----+\n",
            "|NM_PARTIDO                                 |count|\n",
            "+-------------------------------------------+-----+\n",
            "|PARTIDO DO MOVIMENTO DEMOCRÁTICO BRASILEIRO|231  |\n",
            "|PARTIDO DOS TRABALHADORES                  |193  |\n",
            "|PARTIDO DA SOCIAL DEMOCRACIA BRASILEIRA    |170  |\n",
            "|PARTIDO SOCIAL DEMOCRÁTICO                 |120  |\n",
            "|PARTIDO SOCIALISTA BRASILEIRO              |110  |\n",
            "+-------------------------------------------+-----+\n",
            "only showing top 5 rows\n",
            "\n"
          ]
        }
      ]
    },
    {
      "cell_type": "markdown",
      "metadata": {
        "id": "MtoQJpTZP5YF"
      },
      "source": [
        "### **Qual o número de eleitos por partido em 2018 ordenando a saída pelo número de eleitos?**\n",
        "\n",
        "Candidatos eleitos são aqueles com CD_SIT_TOT_TURNO igual a 1, 2 ou 3. O partido é definido pela coluna NM_PARTIDO."
      ]
    },
    {
      "cell_type": "code",
      "metadata": {
        "id": "faM6vs5iP5YF",
        "colab": {
          "base_uri": "https://localhost:8080/"
        },
        "outputId": "cb289256-d1b7-4572-b436-4d91944b217c"
      },
      "source": [
        "# Qual o número de eleitos por partido em 2018 ordenando a saída pelo número de eleitos?\n",
        "consulta_cand_2018_df.filter(col('CD_SIT_TOT_TURNO').isin('1','2','3')).groupBy(['NM_PARTIDO']).count().sort(desc('count'))\\\n",
        ".show(5, truncate=False)"
      ],
      "execution_count": null,
      "outputs": [
        {
          "output_type": "stream",
          "name": "stdout",
          "text": [
            "+---------------------------------------+-----+\n",
            "|NM_PARTIDO                             |count|\n",
            "+---------------------------------------+-----+\n",
            "|PARTIDO DOS TRABALHADORES              |153  |\n",
            "|MOVIMENTO DEMOCRÁTICO BRASILEIRO       |149  |\n",
            "|PARTIDO SOCIAL LIBERAL                 |142  |\n",
            "|PROGRESSISTAS                          |122  |\n",
            "|PARTIDO DA SOCIAL DEMOCRACIA BRASILEIRA|115  |\n",
            "+---------------------------------------+-----+\n",
            "only showing top 5 rows\n",
            "\n"
          ]
        }
      ]
    },
    {
      "cell_type": "code",
      "metadata": {
        "id": "nF2DhfzwP5YJ",
        "colab": {
          "base_uri": "https://localhost:8080/"
        },
        "outputId": "cf5b678c-fd80-43c6-f0a4-7ca1a85cc607"
      },
      "source": [
        "spark.sql(\"select NM_PARTIDO, count(*) as count from consulta_cand_2018 where CD_SIT_TOT_TURNO in ('1','2','3') group by 1 order by 2 desc\")\\\n",
        ".show(5, truncate=False)"
      ],
      "execution_count": null,
      "outputs": [
        {
          "output_type": "stream",
          "name": "stdout",
          "text": [
            "+---------------------------------------+-----+\n",
            "|NM_PARTIDO                             |count|\n",
            "+---------------------------------------+-----+\n",
            "|PARTIDO DOS TRABALHADORES              |153  |\n",
            "|MOVIMENTO DEMOCRÁTICO BRASILEIRO       |149  |\n",
            "|PARTIDO SOCIAL LIBERAL                 |142  |\n",
            "|PROGRESSISTAS                          |122  |\n",
            "|PARTIDO DA SOCIAL DEMOCRACIA BRASILEIRA|115  |\n",
            "+---------------------------------------+-----+\n",
            "only showing top 5 rows\n",
            "\n"
          ]
        }
      ]
    },
    {
      "cell_type": "markdown",
      "metadata": {
        "id": "fcP6pdZCP5YO"
      },
      "source": [
        "### **Quais candidatos eleitos em 2014 foram eleitos também em algum cargo eletivo em 2018?**\n",
        "\n",
        "Candidatos eleitos são aqueles com CD_SIT_TOT_TURNO igual a 1, 2 ou 3.\n",
        "\n",
        "**Dica**: O campo NR_CPF_CANDIDATO representa o cpf do candidato."
      ]
    },
    {
      "cell_type": "code",
      "metadata": {
        "id": "jY2ietbUP5YP",
        "colab": {
          "base_uri": "https://localhost:8080/"
        },
        "outputId": "74b6e2f4-d920-470b-d20b-199fedffe5bf"
      },
      "source": [
        "# Quais candidatos eleitos em 2014 foram eleitos também em algum cargo eletivo em 2018? Por quê o atributo 'ST_REELEICAO' nem sempre reflete a realidade?\n",
        "eleitos_2014_2018 = eleitos_2014.join(eleitos_2018, 'NR_CPF_CANDIDATO')\n",
        "eleitos_2014_2018.show(5, truncate=False)"
      ],
      "execution_count": null,
      "outputs": [
        {
          "output_type": "stream",
          "name": "stdout",
          "text": [
            "+----------------+-------------------------------+------------+-----------------+-------------------------------+------------+-----------------+------------+\n",
            "|NR_CPF_CANDIDATO|NM_CANDIDATO                   |SQ_CANDIDATO|DS_CARGO         |NM_CANDIDATO                   |SQ_CANDIDATO|DS_CARGO         |ST_REELEICAO|\n",
            "+----------------+-------------------------------+------------+-----------------+-------------------------------+------------+-----------------+------------+\n",
            "|04245226676     |CÁSSIO ANTONIO FERREIRA SOARES |130000000603|DEPUTADO ESTADUAL|CASSIO ANTÔNIO FERREIRA SOARES |130000613113|DEPUTADO ESTADUAL|S           |\n",
            "|13521039668     |MARIA MARGARIDA MARTINS SALOMÃO|130000000883|DEPUTADO FEDERAL |MARIA MARGARIDA MARTINS SALOMÃO|130000626964|DEPUTADO FEDERAL |S           |\n",
            "|98042734700     |JOSIAS MARIO DA VITORIA        |80000000377 |DEPUTADO ESTADUAL|JOSIAS MARIO DA VITORIA        |80000611885 |DEPUTADO FEDERAL |N           |\n",
            "|07567626420     |GETULIO NUNES DO REGO          |200000000171|DEPUTADO ESTADUAL|GETÚLIO NUNES DO RÊGO          |200000613507|DEPUTADO ESTADUAL|S           |\n",
            "|43927009253     |JOSUE CLAUDIO DE SOUZA NETO    |40000000504 |DEPUTADO ESTADUAL|JOSUE CLAUDIO DE SOUZA NETO    |40000608857 |DEPUTADO ESTADUAL|S           |\n",
            "+----------------+-------------------------------+------------+-----------------+-------------------------------+------------+-----------------+------------+\n",
            "only showing top 5 rows\n",
            "\n"
          ]
        }
      ]
    },
    {
      "cell_type": "code",
      "metadata": {
        "id": "tKMfEIj_P5YS",
        "colab": {
          "base_uri": "https://localhost:8080/"
        },
        "outputId": "af5fac54-56c3-4e09-ec80-481960352dfe"
      },
      "source": [
        "eleitos_2014.createOrReplaceTempView(\"eleitos_2014\")\n",
        "eleitos_2018.createOrReplaceTempView(\"eleitos_2018\")\n",
        "spark.sql(\"select * from eleitos_2014 as e2014, eleitos_2018 as e2018 \\\n",
        "where e2014.NR_CPF_CANDIDATO = e2018.NR_CPF_CANDIDATO\")\\\n",
        ".show(5, truncate=False)"
      ],
      "execution_count": null,
      "outputs": [
        {
          "output_type": "stream",
          "name": "stdout",
          "text": [
            "+-------------------------------+----------------+------------+-----------------+-------------------------------+----------------+------------+-----------------+------------+\n",
            "|NM_CANDIDATO                   |NR_CPF_CANDIDATO|SQ_CANDIDATO|DS_CARGO         |NM_CANDIDATO                   |NR_CPF_CANDIDATO|SQ_CANDIDATO|DS_CARGO         |ST_REELEICAO|\n",
            "+-------------------------------+----------------+------------+-----------------+-------------------------------+----------------+------------+-----------------+------------+\n",
            "|CÁSSIO ANTONIO FERREIRA SOARES |04245226676     |130000000603|DEPUTADO ESTADUAL|CASSIO ANTÔNIO FERREIRA SOARES |4245226676      |130000613113|DEPUTADO ESTADUAL|S           |\n",
            "|MARIA MARGARIDA MARTINS SALOMÃO|13521039668     |130000000883|DEPUTADO FEDERAL |MARIA MARGARIDA MARTINS SALOMÃO|13521039668     |130000626964|DEPUTADO FEDERAL |S           |\n",
            "|JOSIAS MARIO DA VITORIA        |98042734700     |80000000377 |DEPUTADO ESTADUAL|JOSIAS MARIO DA VITORIA        |98042734700     |80000611885 |DEPUTADO FEDERAL |N           |\n",
            "|GETULIO NUNES DO REGO          |07567626420     |200000000171|DEPUTADO ESTADUAL|GETÚLIO NUNES DO RÊGO          |7567626420      |200000613507|DEPUTADO ESTADUAL|S           |\n",
            "|JOSUE CLAUDIO DE SOUZA NETO    |43927009253     |40000000504 |DEPUTADO ESTADUAL|JOSUE CLAUDIO DE SOUZA NETO    |43927009253     |40000608857 |DEPUTADO ESTADUAL|S           |\n",
            "+-------------------------------+----------------+------------+-----------------+-------------------------------+----------------+------------+-----------------+------------+\n",
            "only showing top 5 rows\n",
            "\n"
          ]
        }
      ]
    },
    {
      "cell_type": "markdown",
      "metadata": {
        "id": "Ybcb-APEP5YW"
      },
      "source": [
        "## Quarta Etapa: Escrita do resultado\n",
        "\n",
        "Nesta etapa iremos gerar uma saída com os eleitos em 2018 que estão no Top 50 com maior valor em reais de bens declarados"
      ]
    },
    {
      "cell_type": "markdown",
      "metadata": {
        "id": "m7MSsbEEP5YW"
      },
      "source": [
        "### **Nas eleições de 2018, quais eleitos estão no Top 50 com maior valor em Reais de bens declarados?**\n",
        "\n",
        "Nesta etapa iremos identificar os candidatos eleitos em 2018 que estão no Top 50 de valor de bens declarados para analisar o impacto do poder financeiro na eleição. A saída será o nome do candidato, sigla do partido e o valor em reais de bens declarados na eleição de 2018. \n",
        "\n",
        "\n",
        "**Dicas**: \n",
        "\n",
        "- A coluna VR_BEM_CANDIDATO identifica o valor dos bens dos candidatos nas eleições de 2018.\n",
        "- O VR_BEM_CANDIDATO está com vírgula ao invés de ponto no valor.\n",
        "- A coluna SQ_CANDIDATO pode ser a coluna de junção entre os datasets bem_candidato_2018_df e consulta_cand_2018_df\n",
        "\n",
        "**Observação**: para esta consulta **não** será necessário mapear em SQL."
      ]
    },
    {
      "cell_type": "code",
      "metadata": {
        "id": "HGdTxPF0P5YX"
      },
      "source": [
        "bem_candidato_2018_df = bem_candidato_2018_df.withColumn('VR_BEM_CANDIDATO', regexp_replace('VR_BEM_CANDIDATO', ',', '.').cast('double'))\n",
        "t1 = bem_candidato_2018_df.sort(desc('VR_BEM_CANDIDATO')).limit(50)\n",
        "t2 = consulta_cand_2018_df.filter(col('CD_SIT_TOT_TURNO').isin('1','2','3'))"
      ],
      "execution_count": null,
      "outputs": []
    },
    {
      "cell_type": "code",
      "source": [
        "result = t1.join(t2, 'SQ_CANDIDATO').dropDuplicates(['NM_CANDIDATO'])\\\n",
        ".select(\"NM_CANDIDATO\", \"DS_CARGO\", \"SG_PARTIDO\", \"VR_BEM_CANDIDATO\").sort(desc('VR_BEM_CANDIDATO'))\n",
        "\n",
        "result.show(5, truncate=False)"
      ],
      "metadata": {
        "id": "vmvVh7TU0FaP"
      },
      "execution_count": null,
      "outputs": []
    },
    {
      "cell_type": "markdown",
      "metadata": {
        "id": "sL3UCyOSP5Ya"
      },
      "source": [
        "### **Escrevendo o resultado no formato Parquet**\n",
        "\n",
        "Abaixo faça a escrita do resultado da análise anterior dos campos nome do candidato, sigla do partido e o valor em reais de bens declarados na eleição de 2018. no formato **Parquet** em \"/tmp/cand_bens.parquet\""
      ]
    },
    {
      "cell_type": "code",
      "metadata": {
        "id": "bYkHu5jwP5Ya"
      },
      "source": [
        "# Escrita no formato Parquet\n",
        "result.write.parquet(\"/tmp/cand_bens.parquet\", mode='overwrite')"
      ],
      "execution_count": null,
      "outputs": []
    },
    {
      "cell_type": "code",
      "metadata": {
        "id": "FHee3aCRP5Yd"
      },
      "source": [
        "! ls /tmp/cand_bens.parquet"
      ],
      "execution_count": null,
      "outputs": []
    },
    {
      "cell_type": "markdown",
      "metadata": {
        "id": "Jf6wR3t1P5Yi"
      },
      "source": [
        "## Quinta Etapa: Exercício prático\n",
        "\n",
        "Nesta etapa resolva o desafio proposto neste notebook é responder as perguntas abaixo para os datasets de eleições de 2022:\n",
        "\n",
        "1. Quais candidatos foram eleitos em 2022 no Estado de Goiás?\n",
        "2. Qual o número de eleitos por partido em 2022 no Estado de Goiás ordenando a saída pelo número de eleitos?\n",
        "3. Quais candidatos eleitos em 2014 e 2018 foram eleitos também em algum cargo eletivo em 2022 no Estado de Goiás?\n",
        "4. Nas eleições de 2022, quais eleitos estão no Top 50 com maior valor em Reais de bens declarados no Estado de Goiás? Escreva o resultado no formato Parquet."
      ]
    },
    {
      "cell_type": "code",
      "source": [
        "sh = \"\"\"\n",
        "# Baixa o arquivo que contém as informações dos candidatos de 2022\n",
        "if [ ! -f eleicoes/consulta_candidato_2022_BRASIL.csv ]; then \n",
        "  wget https://github.com/savioteles/big_data/raw/master/etl/datasets/consulta_cand_2022_BRASIL.csv\n",
        "  mv consulta_cand_2022_BRASIL.csv eleicoes\n",
        "fi\n",
        "\n",
        "# Baixa o arquivo que contém as informações dos bens dos candidatos de 2022\n",
        "if [ ! -f eleicoes/bem_candidato_2022_BRASIL.csv ]; then \n",
        "  wget https://github.com/savioteles/big_data/raw/master/etl/datasets/bem_candidato_2022_BRASIL.csv\n",
        "  mv bem_candidato_2022_BRASIL.csv eleicoes\n",
        "fi\n",
        "\"\"\"\n",
        "with open('script.sh', 'w') as file:\n",
        "  file.write(sh)\n",
        "\n",
        "!bash script.sh"
      ],
      "metadata": {
        "id": "Rkd4UkHr2Tbn",
        "colab": {
          "base_uri": "https://localhost:8080/"
        },
        "outputId": "99a28586-8be6-4fcc-9a4a-7a7580fbb9ca"
      },
      "execution_count": null,
      "outputs": [
        {
          "output_type": "stream",
          "name": "stdout",
          "text": [
            "--2022-10-25 23:51:20--  https://github.com/savioteles/big_data/raw/master/etl/datasets/consulta_cand_2022_BRASIL.csv\n",
            "Resolving github.com (github.com)... 140.82.113.3\n",
            "Connecting to github.com (github.com)|140.82.113.3|:443... connected.\n",
            "HTTP request sent, awaiting response... 302 Found\n",
            "Location: https://raw.githubusercontent.com/savioteles/big_data/master/etl/datasets/consulta_cand_2022_BRASIL.csv [following]\n",
            "--2022-10-25 23:51:20--  https://raw.githubusercontent.com/savioteles/big_data/master/etl/datasets/consulta_cand_2022_BRASIL.csv\n",
            "Resolving raw.githubusercontent.com (raw.githubusercontent.com)... 185.199.108.133, 185.199.109.133, 185.199.110.133, ...\n",
            "Connecting to raw.githubusercontent.com (raw.githubusercontent.com)|185.199.108.133|:443... connected.\n",
            "HTTP request sent, awaiting response... 200 OK\n",
            "Length: 21758282 (21M) [text/plain]\n",
            "Saving to: ‘consulta_cand_2022_BRASIL.csv’\n",
            "\n",
            "\r          consulta_   0%[                    ]       0  --.-KB/s               \rconsulta_cand_2022_ 100%[===================>]  20.75M  --.-KB/s    in 0.06s   \n",
            "\n",
            "2022-10-25 23:51:20 (376 MB/s) - ‘consulta_cand_2022_BRASIL.csv’ saved [21758282/21758282]\n",
            "\n",
            "--2022-10-25 23:51:20--  https://github.com/savioteles/big_data/raw/master/etl/datasets/bem_candidato_2022_BRASIL.csv\n",
            "Resolving github.com (github.com)... 140.82.113.3\n",
            "Connecting to github.com (github.com)|140.82.113.3|:443... connected.\n",
            "HTTP request sent, awaiting response... 302 Found\n",
            "Location: https://raw.githubusercontent.com/savioteles/big_data/master/etl/datasets/bem_candidato_2022_BRASIL.csv [following]\n",
            "--2022-10-25 23:51:20--  https://raw.githubusercontent.com/savioteles/big_data/master/etl/datasets/bem_candidato_2022_BRASIL.csv\n",
            "Resolving raw.githubusercontent.com (raw.githubusercontent.com)... 185.199.108.133, 185.199.109.133, 185.199.111.133, ...\n",
            "Connecting to raw.githubusercontent.com (raw.githubusercontent.com)|185.199.108.133|:443... connected.\n",
            "HTTP request sent, awaiting response... 200 OK\n",
            "Length: 24512831 (23M) [text/plain]\n",
            "Saving to: ‘bem_candidato_2022_BRASIL.csv’\n",
            "\n",
            "\r          bem_candi   0%[                    ]       0  --.-KB/s               \rbem_candidato_2022_ 100%[===================>]  23.38M  --.-KB/s    in 0.06s   \n",
            "\n",
            "2022-10-25 23:51:20 (392 MB/s) - ‘bem_candidato_2022_BRASIL.csv’ saved [24512831/24512831]\n",
            "\n"
          ]
        }
      ]
    },
    {
      "cell_type": "code",
      "source": [
        "# Leitura dos arquivos com informações dos bens dos candidatos em 2022\n",
        "bem_candidato_2022_df = spark.read.csv('file:///content/eleicoes/bem_candidato_2022_BRASIL.csv', header=True, encoding='Latin1', sep=';', schema=bem_candidato_schema, dateFormat='dd/MM/yyyy')"
      ],
      "metadata": {
        "id": "JYS6Da5g2d7j"
      },
      "execution_count": null,
      "outputs": []
    },
    {
      "cell_type": "code",
      "source": [
        "# Leitura dos arquivos da candidatura dos anos de 2022\n",
        "consulta_cand_2022_df = spark.read.csv('file:///content/eleicoes/consulta_cand_2022_BRASIL.csv', header=True, encoding='Latin1', sep=';', inferSchema=True, timestampFormat='dd/MM/yyyy')"
      ],
      "metadata": {
        "id": "ZHJMNH_lnu5O"
      },
      "execution_count": null,
      "outputs": []
    },
    {
      "cell_type": "code",
      "source": [
        "consulta_cand_2022_df = consulta_cand_2022_df.withColumn('DS_SIT_TOT_TURNO', regexp_replace('DS_SIT_TOT_TURNO', '#NULO#', ''))"
      ],
      "metadata": {
        "id": "U7sl_HOrlt3r"
      },
      "execution_count": null,
      "outputs": []
    },
    {
      "cell_type": "code",
      "source": [
        "# candidatos 2022\n",
        "consulta_cand_2022_df = consulta_cand_2022_df.withColumn('DS_SIT_TOT_TURNO', regexp_replace('DS_SIT_TOT_TURNO', '#NULO#', ''))\n",
        "consulta_cand_2022_df = <faça o mesmo tratamento acima para a coluna 'NM_SOCIAL_CANDIDATO'>"
      ],
      "metadata": {
        "id": "vVV2aRNQn2oP"
      },
      "execution_count": null,
      "outputs": []
    },
    {
      "cell_type": "code",
      "source": [
        "# bens dos candidatos de 2022\n",
        "bem_candidato_2022_df = <faça o mesmo tratamento acima na coluna 'DS_BEM_CANDIDATO'>"
      ],
      "metadata": {
        "id": "xLGa6B-toHAs"
      },
      "execution_count": null,
      "outputs": []
    },
    {
      "cell_type": "markdown",
      "source": [
        "### **Quais candidatos foram eleitos em 2022 no Estado de Goiás?**"
      ],
      "metadata": {
        "id": "HbrXqFBioUnf"
      }
    },
    {
      "cell_type": "code",
      "source": [
        "# #Quais candidatos foram eleitos em 2022 no Estado de Goiás?\n",
        "eleitos_2022 = consulta_cand_2022_df\\\n",
        "                .filter(\"SG_UF = 'GO' and CD_SIT_TOT_TURNO in (1,2,3)\")\\\n",
        "                .select('NM_CANDIDATO', 'SG_UF', 'NR_CPF_CANDIDATO', 'SQ_CANDIDATO', 'DS_CARGO', 'ST_REELEICAO')\\\n",
        "\n",
        "eleitos_2022.show(5, truncate=False)"
      ],
      "metadata": {
        "id": "lowyu8ifoNF-",
        "colab": {
          "base_uri": "https://localhost:8080/"
        },
        "outputId": "c08545e8-386c-4751-a92c-7326579ad595"
      },
      "execution_count": null,
      "outputs": [
        {
          "output_type": "stream",
          "name": "stdout",
          "text": [
            "+------------------------------+-----+----------------+------------+-----------------+------------+\n",
            "|NM_CANDIDATO                  |SG_UF|NR_CPF_CANDIDATO|SQ_CANDIDATO|DS_CARGO         |ST_REELEICAO|\n",
            "+------------------------------+-----+----------------+------------+-----------------+------------+\n",
            "|RENATO MENEZES DE CASTRO      |GO   |78475317120     |90001648408 |DEPUTADO ESTADUAL|N           |\n",
            "|MAGDA MOFATTO HON             |GO   |13205285115     |90001652511 |DEPUTADO FEDERAL |S           |\n",
            "|RICARDO QUIRINO DOS SANTOS    |GO   |83217037715     |90001653000 |DEPUTADO ESTADUAL|N           |\n",
            "|JAMIL SEBBA CALIFE            |GO   |92219322149     |90001712193 |DEPUTADO ESTADUAL|N           |\n",
            "|AMILTON BATISTA DE FARIA FILHO|GO   |218004133       |90001653191 |DEPUTADO ESTADUAL|S           |\n",
            "+------------------------------+-----+----------------+------------+-----------------+------------+\n",
            "only showing top 5 rows\n",
            "\n"
          ]
        }
      ]
    },
    {
      "cell_type": "markdown",
      "source": [
        "### **Qual o número de eleitos por partido em 2022 no Estado de Goiás ordenando a saída pelo número de eleitos?**"
      ],
      "metadata": {
        "id": "7olzJe1GobDW"
      }
    },
    {
      "cell_type": "code",
      "source": [
        "# Qual o número de eleitos por partido em 2022 ordenando a saída pelo número de eleitos?\n",
        "num_cand_eleitos_partido = <codigo aqui>\n",
        "num_cand_eleitos_partido.show(5, truncate=False)"
      ],
      "metadata": {
        "id": "LglfynUhodk9"
      },
      "execution_count": null,
      "outputs": []
    },
    {
      "cell_type": "markdown",
      "source": [
        "### **Quais candidatos eleitos em 2014 e 2018 foram eleitos também em algum cargo eletivo em 2022 no Estado de Goiás?**"
      ],
      "metadata": {
        "id": "UJLtg443od8h"
      }
    },
    {
      "cell_type": "code",
      "source": [
        "# Quais candidatos eleitos em 2014 foram eleitos também em algum cargo eletivo em 2018?\n",
        "eleitos_2014_2018_2022 = <faça join entre eleitos_2022 e eleitos_2014_2018>\n",
        "eleitos_2014_2018_2022.show(5, truncate=False)"
      ],
      "metadata": {
        "id": "6eMtMlplohgr"
      },
      "execution_count": null,
      "outputs": []
    },
    {
      "cell_type": "markdown",
      "source": [
        "### **Nas eleições de 2022, quais eleitos estão no Top 50 com maior valor em Reais de bens declarados no Estado de Goiás? Escreva o resultado no formato Parquet.**"
      ],
      "metadata": {
        "id": "Ba3JEXC7oiHs"
      }
    },
    {
      "cell_type": "code",
      "source": [
        "bem_candidato_2022_df = <faça a conversão da coluna 'VR_BEM_CANDIDATO' para double lembrando de substituir ',' por '.'>\n",
        "t1 = <filtre no bem_candidato_2022_df  pelo estado de Goiás e ordene pela coluna 'VR_BEM_CANDIDATO' na ordem decrescente pegando os 50 primeiros>\n",
        "t2 = <filtre no consulta_cand_2022_df pela coluna CD_SIT_TOT_TURNO igual a 1,2 ou 3 e pelo estado de Goiás>"
      ],
      "metadata": {
        "id": "DJrWrm-OojNs"
      },
      "execution_count": null,
      "outputs": []
    },
    {
      "cell_type": "code",
      "source": [
        "result = <faça o join entre t1 e t2 e remova os duplicados ordenando pela coluna VR_BEM_CANDIDATO>\n",
        "\n",
        "result.show(5, truncate=False)"
      ],
      "metadata": {
        "id": "Kuci9cNarMWB"
      },
      "execution_count": null,
      "outputs": []
    },
    {
      "cell_type": "code",
      "source": [
        "<escreva o resultado em \"file:///tmp/bens_cand_2022.parquet\">"
      ],
      "metadata": {
        "id": "PVztG64wrO7k"
      },
      "execution_count": null,
      "outputs": []
    }
  ]
}